{
 "cells": [
  {
   "cell_type": "code",
   "execution_count": 3,
   "id": "1f6ef1d9",
   "metadata": {},
   "outputs": [],
   "source": [
    "import matplotlib.pyplot as plt\n",
    "from PIL import ImageFilter,Image\n",
    "import numpy as np\n",
    "import cv2\n",
    "\n",
    "def normalize_to_emnist(im):\n",
    "    width = float(im.size[0])\n",
    "    height = float(im.size[1])\n",
    "    newImage = Image.new('L',(28,28),(255))\n",
    "\n",
    "\n",
    "    if width > height: #check which dimension is bigger\n",
    "        #Width is bigger. Width becomes 20 pixels.\n",
    "        nheight = int(round((28.0/width*height),0)) #resize height according to ratio width\n",
    "        if (nheight == 0): #rare case but minimum is 1 pixel\n",
    "            nheight = 1  \n",
    "        # resize and sharpen\n",
    "        img = im.resize((28,nheight), Image.ANTIALIAS).filter(ImageFilter.SHARPEN)\n",
    "        wtop = int(round(((28 - nheight)/2),0)) #caculate horizontal pozition\n",
    "        newImage.paste(img, (0,wtop)) #paste resized image on white canvas\n",
    "    else:\n",
    "    #Height is bigger. Heigth becomes 20 pixels. \n",
    "        nwidth = int(round((28.0/height*width),0)) #resize width according to ratio height\n",
    "        if (nwidth == 0): #rare case but minimum is 1 pixel\n",
    "            nwidth = 1\n",
    "     # resize and sharpen\n",
    "        img = im.resize((nwidth,28), Image.ANTIALIAS).filter(ImageFilter.SHARPEN)\n",
    "        wleft = int(round(((28 - nwidth)/2),0)) #caculate vertical pozition\n",
    "        newImage.paste(img, (wleft,0)) #paste resize\n",
    "\n",
    "\n",
    "# # Normalizing image into pixel values\n",
    "\n",
    "# In[9]:\n",
    "\n",
    "\n",
    "    tv = list(newImage.getdata())\n",
    "    tva = [ (255-x)*1.0/255.0 for x in tv]\n",
    "\n",
    "\n",
    "# In[10]:\n",
    "\n",
    "\n",
    "    for i in range(len(tva)):\n",
    "        if tva[i]<=0.45:\n",
    "            tva[i]=0.0\n",
    "    n_image = np.array(tva)\n",
    "\n",
    "    return n_image"
   ]
  },
  {
   "cell_type": "code",
   "execution_count": null,
   "id": "41b9117e",
   "metadata": {},
   "outputs": [],
   "source": []
  }
 ],
 "metadata": {
  "kernelspec": {
   "display_name": "Python 3 (ipykernel)",
   "language": "python",
   "name": "python3"
  },
  "language_info": {
   "codemirror_mode": {
    "name": "ipython",
    "version": 3
   },
   "file_extension": ".py",
   "mimetype": "text/x-python",
   "name": "python",
   "nbconvert_exporter": "python",
   "pygments_lexer": "ipython3",
   "version": "3.9.12"
  }
 },
 "nbformat": 4,
 "nbformat_minor": 5
}
